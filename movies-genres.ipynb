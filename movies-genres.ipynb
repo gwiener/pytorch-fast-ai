{
 "cells": [
  {
   "cell_type": "code",
   "execution_count": 73,
   "metadata": {},
   "outputs": [],
   "source": [
    "import ast\n",
    "import numpy as np\n",
    "import pandas as pd\n",
    "import random\n",
    "from skimage import io as skio\n",
    "from torch.utils.data import Dataset, DataLoader, sampler\n",
    "from torchvision import transforms as tr\n",
    "from os.path import join as pjoin\n",
    "import torch\n",
    "import torch.nn as nn\n",
    "from torchvision.models import resnet34\n",
    "import torch.optim as opt\n",
    "import tqdm"
   ]
  },
  {
   "cell_type": "code",
   "execution_count": 74,
   "metadata": {},
   "outputs": [
    {
     "name": "stderr",
     "output_type": "stream",
     "text": [
      "/home/guy/.local/lib/python3.6/site-packages/IPython/core/interactiveshell.py:2785: DtypeWarning: Columns (10) have mixed types. Specify dtype option on import or set low_memory=False.\n",
      "  interactivity=interactivity, compiler=compiler, result=result)\n"
     ]
    }
   ],
   "source": [
    "movies = pd.read_csv('movies/movies_metadata.csv')"
   ]
  },
  {
   "cell_type": "markdown",
   "metadata": {},
   "source": [
    "Remove `/` prefix from poster path for easier join with local listed files"
   ]
  },
  {
   "cell_type": "code",
   "execution_count": 75,
   "metadata": {},
   "outputs": [],
   "source": [
    "movies['poster_path'] = movies.poster_path.str.lstrip('/')"
   ]
  },
  {
   "cell_type": "markdown",
   "metadata": {},
   "source": [
    "## Write poster URLs to file"
   ]
  },
  {
   "cell_type": "code",
   "execution_count": 76,
   "metadata": {},
   "outputs": [],
   "source": [
    "POSTER_SIZES = [\n",
    "  \"w92\",\n",
    "  \"w154\",\n",
    "  \"w185\",\n",
    "  \"w342\",\n",
    "  \"w500\",\n",
    "  \"w780\",\n",
    "  \"original\"\n",
    "]"
   ]
  },
  {
   "cell_type": "markdown",
   "metadata": {},
   "source": [
    "Poster URL example:`https://image.tmdb.org/t/p/w500/8uO0gUM8aNqYLs1OsTBQiXu0fEv.jpg`"
   ]
  },
  {
   "cell_type": "code",
   "execution_count": 79,
   "metadata": {},
   "outputs": [
    {
     "data": {
      "text/plain": [
       "'https://image.tmdb.org/t/p/w342/rhIRbceoE9lR4veEXuwCC2wARtG.jpg'"
      ]
     },
     "execution_count": 79,
     "metadata": {},
     "output_type": "execute_result"
    }
   ],
   "source": [
    "POSTER_URL_BASE = \"https://image.tmdb.org/t/p/\"\n",
    "POSTER_DFLT_SIZE = 3\n",
    "def poster_url(path):\n",
    "    return f\"{POSTER_URL_BASE}{POSTER_SIZES[POSTER_DFLT_SIZE]}/{path}\"\n",
    "poster_url(movies.poster_path.iloc[0])"
   ]
  },
  {
   "cell_type": "markdown",
   "metadata": {},
   "source": [
    "Write poster URLs to files for fetching"
   ]
  },
  {
   "cell_type": "code",
   "execution_count": 81,
   "metadata": {},
   "outputs": [],
   "source": [
    "poster_urls = movies.poster_path.apply(poster_url)\n",
    "poster_urls.to_csv('poster_urls.txt', header=False, index=False)"
   ]
  },
  {
   "cell_type": "code",
   "execution_count": 82,
   "metadata": {},
   "outputs": [
    {
     "name": "stdout",
     "output_type": "stream",
     "text": [
      "https://image.tmdb.org/t/p/w342/rhIRbceoE9lR4veEXuwCC2wARtG.jpg\r\n",
      "https://image.tmdb.org/t/p/w342/vzmL6fP7aPKNKPRTFnZmiUfciyV.jpg\r\n",
      "https://image.tmdb.org/t/p/w342/6ksm1sjKMFLbO7UY2i6G1ju9SML.jpg\r\n",
      "https://image.tmdb.org/t/p/w342/16XOMpEaLWkrcPqSQqhTmeJuqQl.jpg\r\n",
      "https://image.tmdb.org/t/p/w342/e64sOI48hQXyru7naBFyssKFxVd.jpg\r\n",
      "https://image.tmdb.org/t/p/w342/zMyfPUelumio3tiDKPffaUpsQTD.jpg\r\n",
      "https://image.tmdb.org/t/p/w342/jQh15y5YB7bWz1NtffNZmRw0s9D.jpg\r\n",
      "https://image.tmdb.org/t/p/w342/sGO5Qa55p7wTu7FJcX4H4xIVKvS.jpg\r\n",
      "https://image.tmdb.org/t/p/w342/eoWvKD60lT95Ss1MYNgVExpo5iU.jpg\r\n",
      "https://image.tmdb.org/t/p/w342/5c0ovjT41KnYIHYuF4AWsTe3sKh.jpg\r\n"
     ]
    }
   ],
   "source": [
    "!head poster_urls.txt"
   ]
  },
  {
   "cell_type": "code",
   "execution_count": 83,
   "metadata": {},
   "outputs": [
    {
     "name": "stdout",
     "output_type": "stream",
     "text": [
      "45466 poster_urls.txt\r\n"
     ]
    }
   ],
   "source": [
    "!wc -l poster_urls.txt"
   ]
  },
  {
   "cell_type": "markdown",
   "metadata": {},
   "source": [
    "Run this command to actually fetch the files:\n",
    "\n",
    "```sh\n",
    "aria2c -i poster_urls.txt -j 16 -d movies/posters/<width>\n",
    "```"
   ]
  },
  {
   "cell_type": "markdown",
   "metadata": {},
   "source": [
    "## Movies from top genres"
   ]
  },
  {
   "cell_type": "code",
   "execution_count": 4,
   "metadata": {},
   "outputs": [],
   "source": [
    "movies['genres_list'] = \\\n",
    "    movies.genres.apply(ast.literal_eval).apply(lambda l: list(map(lambda x: x['name'], l)))\n",
    "genres = movies.genres_list.apply(pd.Series).stack()"
   ]
  },
  {
   "cell_type": "code",
   "execution_count": 5,
   "metadata": {},
   "outputs": [
    {
     "data": {
      "text/plain": [
       "Drama              20265\n",
       "Comedy             13182\n",
       "Thriller            7624\n",
       "Romance             6735\n",
       "Action              6596\n",
       "Horror              4673\n",
       "Crime               4307\n",
       "Documentary         3932\n",
       "Adventure           3496\n",
       "Science Fiction     3049\n",
       "Family              2770\n",
       "Mystery             2467\n",
       "Fantasy             2313\n",
       "Animation           1935\n",
       "Foreign             1622\n",
       "Music               1598\n",
       "History             1398\n",
       "War                 1323\n",
       "Western             1042\n",
       "TV Movie             767\n",
       "dtype: int64"
      ]
     },
     "execution_count": 5,
     "metadata": {},
     "output_type": "execute_result"
    }
   ],
   "source": [
    "genre_counts = genres.value_counts()\n",
    "genre_counts = genre_counts[genre_counts > 1]\n",
    "genre_counts"
   ]
  },
  {
   "cell_type": "code",
   "execution_count": 6,
   "metadata": {},
   "outputs": [
    {
     "data": {
      "text/plain": [
       "Index(['Drama', 'Comedy', 'Thriller', 'Romance', 'Action', 'Horror'], dtype='object')"
      ]
     },
     "execution_count": 6,
     "metadata": {},
     "output_type": "execute_result"
    }
   ],
   "source": [
    "NUM_GENRES = 6\n",
    "top_genres = genre_counts.head(NUM_GENRES).index\n",
    "top_genres"
   ]
  },
  {
   "cell_type": "code",
   "execution_count": 7,
   "metadata": {},
   "outputs": [],
   "source": [
    "movies['labels'] = movies.genres_list.apply(lambda l: [(0, 1)[g in l] for g in top_genres])\n",
    "movies_with_top_genres_idx = genres[genres.isin(top_genres)].index.droplevel(1).unique()\n",
    "movies_with_top_genres = movies.loc[movies_with_top_genres_idx]"
   ]
  },
  {
   "cell_type": "code",
   "execution_count": 8,
   "metadata": {},
   "outputs": [
    {
     "data": {
      "text/plain": [
       "36886"
      ]
     },
     "execution_count": 8,
     "metadata": {},
     "output_type": "execute_result"
    }
   ],
   "source": [
    "len(movies_with_top_genres)"
   ]
  },
  {
   "cell_type": "markdown",
   "metadata": {},
   "source": [
    "## Join with available posters"
   ]
  },
  {
   "cell_type": "code",
   "execution_count": 9,
   "metadata": {},
   "outputs": [],
   "source": [
    "poster_base = 'movies/posters/w342/'"
   ]
  },
  {
   "cell_type": "code",
   "execution_count": 19,
   "metadata": {},
   "outputs": [
    {
     "data": {
      "text/plain": [
       "45077"
      ]
     },
     "execution_count": 19,
     "metadata": {},
     "output_type": "execute_result"
    }
   ],
   "source": [
    "downloaded_posters = !ls {poster_base}\n",
    "len(downloaded_posters)"
   ]
  },
  {
   "cell_type": "code",
   "execution_count": 20,
   "metadata": {},
   "outputs": [
    {
     "data": {
      "text/plain": [
       "36788"
      ]
     },
     "execution_count": 20,
     "metadata": {},
     "output_type": "execute_result"
    }
   ],
   "source": [
    "movies_with_top_genres_and_poster = \\\n",
    "  movies_with_top_genres[movies_with_top_genres.poster_path.isin(set(downloaded_posters))]\n",
    "len(movies_with_top_genres_and_poster)"
   ]
  },
  {
   "cell_type": "code",
   "execution_count": 59,
   "metadata": {},
   "outputs": [
    {
     "data": {
      "application/vnd.jupyter.widget-view+json": {
       "model_id": "de91b5c7fe9a4c54a999d668fc1dec52",
       "version_major": 2,
       "version_minor": 0
      },
      "text/plain": [
       "HBox(children=(IntProgress(value=0, max=36788), HTML(value='')))"
      ]
     },
     "metadata": {},
     "output_type": "display_data"
    },
    {
     "data": {
      "text/plain": [
       "6"
      ]
     },
     "execution_count": 59,
     "metadata": {},
     "output_type": "execute_result"
    }
   ],
   "source": [
    "f = tr.Compose([tr.ToPILImage(), tr.ToTensor()])\n",
    "invalid = []\n",
    "alphas = []\n",
    "for x in tqdm.tqdm_notebook(movies_with_top_genres_and_poster.poster_path):\n",
    "    try:\n",
    "        if f(skio.imread(f\"{poster_base}{x}\")).shape[0] > 3:\n",
    "            alphas.append(x)\n",
    "    except:\n",
    "        invalid.append(x)\n",
    "len(invalid)"
   ]
  },
  {
   "cell_type": "code",
   "execution_count": 60,
   "metadata": {},
   "outputs": [
    {
     "data": {
      "text/plain": [
       "['1VzCr94M1Zz0DfhU2I1tpZVgsVb.png']"
      ]
     },
     "execution_count": 60,
     "metadata": {},
     "output_type": "execute_result"
    }
   ],
   "source": [
    "alphas"
   ]
  },
  {
   "cell_type": "code",
   "execution_count": 22,
   "metadata": {},
   "outputs": [
    {
     "data": {
      "text/plain": [
       "['oFWvF7OJfT2ydAAatlnsgChV4FP.jpg',\n",
       " 'vPwWgX1SzLRm6Tqhj9102Mg5kkz.jpg',\n",
       " '5eZgNYn8oHdJlBhBuF7fpDoe13R.jpg',\n",
       " '3rXML2PCnZOYialJj7GGM1pXlIt.jpg',\n",
       " 'zhJAHdhjSazDiOrVwOgfhHCLqI8.jpg',\n",
       " 'k7f6FhWeAZNxlhwVt5kDrVGc9hP.jpg']"
      ]
     },
     "execution_count": 22,
     "metadata": {},
     "output_type": "execute_result"
    }
   ],
   "source": [
    "invalid"
   ]
  },
  {
   "cell_type": "code",
   "execution_count": 62,
   "metadata": {},
   "outputs": [
    {
     "data": {
      "text/html": [
       "<div>\n",
       "<style scoped>\n",
       "    .dataframe tbody tr th:only-of-type {\n",
       "        vertical-align: middle;\n",
       "    }\n",
       "\n",
       "    .dataframe tbody tr th {\n",
       "        vertical-align: top;\n",
       "    }\n",
       "\n",
       "    .dataframe thead th {\n",
       "        text-align: right;\n",
       "    }\n",
       "</style>\n",
       "<table border=\"1\" class=\"dataframe\">\n",
       "  <thead>\n",
       "    <tr style=\"text-align: right;\">\n",
       "      <th></th>\n",
       "      <th>poster_path</th>\n",
       "      <th>labels</th>\n",
       "    </tr>\n",
       "  </thead>\n",
       "  <tbody>\n",
       "    <tr>\n",
       "      <th>0</th>\n",
       "      <td>rhIRbceoE9lR4veEXuwCC2wARtG.jpg</td>\n",
       "      <td>[0, 1, 0, 0, 0, 0]</td>\n",
       "    </tr>\n",
       "    <tr>\n",
       "      <th>2</th>\n",
       "      <td>6ksm1sjKMFLbO7UY2i6G1ju9SML.jpg</td>\n",
       "      <td>[0, 1, 0, 1, 0, 0]</td>\n",
       "    </tr>\n",
       "    <tr>\n",
       "      <th>3</th>\n",
       "      <td>16XOMpEaLWkrcPqSQqhTmeJuqQl.jpg</td>\n",
       "      <td>[1, 1, 0, 1, 0, 0]</td>\n",
       "    </tr>\n",
       "    <tr>\n",
       "      <th>4</th>\n",
       "      <td>e64sOI48hQXyru7naBFyssKFxVd.jpg</td>\n",
       "      <td>[0, 1, 0, 0, 0, 0]</td>\n",
       "    </tr>\n",
       "    <tr>\n",
       "      <th>5</th>\n",
       "      <td>zMyfPUelumio3tiDKPffaUpsQTD.jpg</td>\n",
       "      <td>[1, 0, 1, 0, 1, 0]</td>\n",
       "    </tr>\n",
       "  </tbody>\n",
       "</table>\n",
       "</div>"
      ],
      "text/plain": [
       "                       poster_path              labels\n",
       "0  rhIRbceoE9lR4veEXuwCC2wARtG.jpg  [0, 1, 0, 0, 0, 0]\n",
       "2  6ksm1sjKMFLbO7UY2i6G1ju9SML.jpg  [0, 1, 0, 1, 0, 0]\n",
       "3  16XOMpEaLWkrcPqSQqhTmeJuqQl.jpg  [1, 1, 0, 1, 0, 0]\n",
       "4  e64sOI48hQXyru7naBFyssKFxVd.jpg  [0, 1, 0, 0, 0, 0]\n",
       "5  zMyfPUelumio3tiDKPffaUpsQTD.jpg  [1, 0, 1, 0, 1, 0]"
      ]
     },
     "execution_count": 62,
     "metadata": {},
     "output_type": "execute_result"
    }
   ],
   "source": [
    "invalid += alphas\n",
    "invalid_idx = movies_with_top_genres_and_poster.poster_path.isin(invalid)\n",
    "X = movies_with_top_genres_and_poster[~invalid_idx][['poster_path', 'labels']]\n",
    "X.head()"
   ]
  },
  {
   "cell_type": "markdown",
   "metadata": {},
   "source": [
    "## Data preps"
   ]
  },
  {
   "cell_type": "code",
   "execution_count": 63,
   "metadata": {},
   "outputs": [],
   "source": [
    "class MoviePostersDataset(Dataset):\n",
    "    def __init__(self, df, base_dir, transform):\n",
    "        self.df = df\n",
    "        self.base_dir = base_dir\n",
    "        self.transform = transform\n",
    "        \n",
    "    def __len__(self):\n",
    "        return len(self.df)\n",
    "    \n",
    "    def __getitem__(self, idx):\n",
    "        name = self.df.iloc[idx].poster_path\n",
    "        path = pjoin(self.base_dir, name)\n",
    "        img = skio.imread(path)\n",
    "        lbl = self.df.iloc[idx].labels\n",
    "        if self.transform:\n",
    "            img = self.transform(img)\n",
    "        return img, lbl"
   ]
  },
  {
   "cell_type": "markdown",
   "metadata": {},
   "source": [
    "### Train-Test Split"
   ]
  },
  {
   "cell_type": "code",
   "execution_count": 64,
   "metadata": {},
   "outputs": [],
   "source": [
    "VALID_RATE = 0.1"
   ]
  },
  {
   "cell_type": "code",
   "execution_count": 65,
   "metadata": {},
   "outputs": [],
   "source": [
    "num_samples = len(X)\n",
    "indices = list(range(num_samples))\n",
    "valid_idx = random.choices(indices, k=int(num_samples*VALID_RATE))\n",
    "train_idx = list(set(indices) - set(valid_idx))\n",
    "valid_samp = sampler.SubsetRandomSampler(valid_idx)\n",
    "train_samp = sampler.SubsetRandomSampler(train_idx)"
   ]
  },
  {
   "cell_type": "code",
   "execution_count": 66,
   "metadata": {},
   "outputs": [],
   "source": [
    "valid_trans = tr.Compose([\n",
    "    tr.ToPILImage(),\n",
    "    tr.CenterCrop(224),\n",
    "    tr.ToTensor(),\n",
    "    tr.Normalize(mean=[0.485, 0.456, 0.406],std=[0.229, 0.224, 0.225])\n",
    "])"
   ]
  },
  {
   "cell_type": "code",
   "execution_count": 67,
   "metadata": {},
   "outputs": [],
   "source": [
    "train_trans = tr.Compose([\n",
    "    tr.ToPILImage(),\n",
    "    tr.CenterCrop(224),\n",
    "    # tr.RandomVerticalFlip(),\n",
    "    tr.ToTensor(),\n",
    "    tr.Normalize(mean=[0.485, 0.456, 0.406],std=[0.229, 0.224, 0.225])\n",
    "])"
   ]
  },
  {
   "cell_type": "code",
   "execution_count": 68,
   "metadata": {},
   "outputs": [
    {
     "data": {
      "text/plain": [
       "(924, 229)"
      ]
     },
     "execution_count": 68,
     "metadata": {},
     "output_type": "execute_result"
    }
   ],
   "source": [
    "valid_ds = MoviePostersDataset(X.iloc[valid_idx], poster_base, valid_trans)\n",
    "train_ds = MoviePostersDataset(X.iloc[train_idx], poster_base, train_trans)\n",
    "#valid_ld = DataLoader(valid_ds, sampler=valid_samp, batch_size=16, num_workers=2, drop_last=True)\n",
    "#train_ld = DataLoader(train_ds, sampler=train_samp, batch_size=36, num_workers=4, drop_last=True)\n",
    "valid_ld = DataLoader(valid_ds, shuffle=True, batch_size=16, num_workers=2, drop_last=True)\n",
    "train_ld = DataLoader(train_ds, shuffle=True, batch_size=36, num_workers=4, drop_last=True)\n",
    "(len(train_ld), len(valid_ld))"
   ]
  },
  {
   "cell_type": "markdown",
   "metadata": {},
   "source": [
    "## Modeling"
   ]
  },
  {
   "cell_type": "code",
   "execution_count": 69,
   "metadata": {},
   "outputs": [],
   "source": [
    "net = resnet34(pretrained=True)\n",
    "layers = list(net.children())\n",
    "last_layer = layers[-1]\n",
    "last_layer.in_features, last_layer.out_features\n",
    "for p in net.parameters(): p.requires_grad = False\n",
    "net.fc = nn.Linear(in_features=last_layer.in_features, out_features=NUM_GENRES)"
   ]
  },
  {
   "cell_type": "code",
   "execution_count": 70,
   "metadata": {},
   "outputs": [],
   "source": [
    "criterion = nn.BCEWithLogitsLoss()\n",
    "optimizer = opt.SGD(net.fc.parameters(), lr=0.01)"
   ]
  },
  {
   "cell_type": "markdown",
   "metadata": {},
   "source": [
    "### Train!"
   ]
  },
  {
   "cell_type": "code",
   "execution_count": 71,
   "metadata": {},
   "outputs": [],
   "source": [
    "net = net.cuda()"
   ]
  },
  {
   "cell_type": "code",
   "execution_count": 72,
   "metadata": {},
   "outputs": [
    {
     "data": {
      "application/vnd.jupyter.widget-view+json": {
       "model_id": "8ff2b377341141c8b0803f5ce422f6b4",
       "version_major": 2,
       "version_minor": 0
      },
      "text/plain": [
       "HBox(children=(IntProgress(value=0, max=924), HTML(value='')))"
      ]
     },
     "metadata": {},
     "output_type": "display_data"
    },
    {
     "name": "stdout",
     "output_type": "stream",
     "text": [
      "464.7597334086895\n"
     ]
    },
    {
     "data": {
      "application/vnd.jupyter.widget-view+json": {
       "model_id": "9bd3ec734b67462cab31f1aca08bd608",
       "version_major": 2,
       "version_minor": 0
      },
      "text/plain": [
       "HBox(children=(IntProgress(value=0, max=924), HTML(value='')))"
      ]
     },
     "metadata": {},
     "output_type": "display_data"
    },
    {
     "name": "stdout",
     "output_type": "stream",
     "text": [
      "434.96938905119896\n"
     ]
    }
   ],
   "source": [
    "for epoch in range(2):  # loop over the dataset multiple times\n",
    "    running_loss = 0.0\n",
    "    net.train()\n",
    "    for data in tqdm.tqdm_notebook(train_ld):\n",
    "        inputs, labels = data\n",
    "        labels = torch.stack(labels).transpose(1,0).float()\n",
    "        inputs, labels = inputs.cuda(), labels.cuda()\n",
    "        optimizer.zero_grad()\n",
    "        outputs = net(inputs)\n",
    "        loss = criterion(outputs, labels)\n",
    "        loss.backward()\n",
    "        optimizer.step()\n",
    "        running_loss += loss.item()\n",
    "    print(running_loss)"
   ]
  }
 ],
 "metadata": {
  "kernelspec": {
   "display_name": "Python 3",
   "language": "python",
   "name": "python3"
  },
  "language_info": {
   "codemirror_mode": {
    "name": "ipython",
    "version": 3
   },
   "file_extension": ".py",
   "mimetype": "text/x-python",
   "name": "python",
   "nbconvert_exporter": "python",
   "pygments_lexer": "ipython3",
   "version": "3.6.5"
  }
 },
 "nbformat": 4,
 "nbformat_minor": 2
}
