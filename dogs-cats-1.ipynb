{
 "cells": [
  {
   "cell_type": "code",
   "execution_count": 1,
   "metadata": {},
   "outputs": [
    {
     "name": "stdout",
     "output_type": "stream",
     "text": [
      "--2018-07-02 22:20:38--  http://files.fast.ai/data/dogscats.zip\n",
      "Resolving files.fast.ai (files.fast.ai)... 67.205.15.147\n",
      "Connecting to files.fast.ai (files.fast.ai)|67.205.15.147|:80... connected.\n",
      "HTTP request sent, awaiting response... 200 OK\n",
      "Length: 857214334 (818M) [application/zip]\n",
      "Saving to: ‘dogscats.zip’\n",
      "\n",
      "dogscats.zip        100%[===================>] 817.50M  1.20MB/s    in 23m 58s \n",
      "\n",
      "2018-07-02 22:44:36 (582 KB/s) - ‘dogscats.zip’ saved [857214334/857214334]\n",
      "\n"
     ]
    }
   ],
   "source": [
    "!wget http://files.fast.ai/data/dogscats.zip"
   ]
  },
  {
   "cell_type": "code",
   "execution_count": null,
   "metadata": {},
   "outputs": [],
   "source": [
    "!unzip dogscats.zip"
   ]
  },
  {
   "cell_type": "code",
   "execution_count": 4,
   "metadata": {},
   "outputs": [
    {
     "name": "stdout",
     "output_type": "stream",
     "text": [
      "models\tsample\ttest1  train  valid\r\n"
     ]
    }
   ],
   "source": [
    "!ls dogscats/"
   ]
  }
 ],
 "metadata": {
  "kernelspec": {
   "display_name": "Python 3",
   "language": "python",
   "name": "python3"
  },
  "language_info": {
   "codemirror_mode": {
    "name": "ipython",
    "version": 3
   },
   "file_extension": ".py",
   "mimetype": "text/x-python",
   "name": "python",
   "nbconvert_exporter": "python",
   "pygments_lexer": "ipython3",
   "version": "3.6.5"
  }
 },
 "nbformat": 4,
 "nbformat_minor": 2
}
